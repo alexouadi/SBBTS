{
 "cells": [
  {
   "cell_type": "code",
   "execution_count": 21,
   "id": "444701c4-1c19-4b2b-b14f-ecd45525faf4",
   "metadata": {},
   "outputs": [
    {
     "name": "stdout",
     "output_type": "stream",
     "text": [
      "The autoreload extension is already loaded. To reload it, use:\n",
      "  %reload_ext autoreload\n"
     ]
    }
   ],
   "source": [
    "%load_ext autoreload\n",
    "%autoreload 2"
   ]
  },
  {
   "cell_type": "code",
   "execution_count": 24,
   "id": "3bac64c9-31c1-437a-8e3f-3a6d7472a79c",
   "metadata": {},
   "outputs": [],
   "source": [
    "import warnings\n",
    "warnings.filterwarnings('ignore')\n",
    "import logging\n",
    "logging.getLogger('matplotlib.mathtext').setLevel(logging.WARNING)\n",
    "\n",
    "import sys, os\n",
    "sys.path.append(os.path.abspath('..'))\n",
    "\n",
    "import matplotlib.pyplot as plt\n",
    "\n",
    "from models.sbbts_uni_fft import *\n",
    "from models.sbbts_uni_kernel import *\n",
    "from utils.data_generation import *\n",
    "from utils.eval_functions import *"
   ]
  },
  {
   "cell_type": "code",
   "execution_count": null,
   "id": "dc80fa12-a931-4dfb-a1fc-d7ee46ea7ad7",
   "metadata": {},
   "outputs": [
    {
     "name": "stdout",
     "output_type": "stream",
     "text": [
      "Start time: 11:24:14\n",
      "Expected finish time: 11:29:39\n"
     ]
    }
   ],
   "source": [
    "M, N_pi = 100, 100\n",
    "N = 100\n",
    "Generator_garch = Generate_Data(M)\n",
    "X_garch = Generator_garch.generate_GARCH(N=N)\n",
    "\n",
    "deltati = 1\n",
    "grid = np.linspace(X_garch.min() - 2 * X_garch.std(), X_garch.max() + 2 * X_garch.std(), 1000)\n",
    "\n",
    "X_garch_sbts = simusbbts_kernel(N=N, M=M, X=X_garch, N_pi=N_pi, h=.8,\n",
    "                         deltati=deltati, grid=grid, K=50, beta=300, M_simu=10)\n",
    "\n",
    "X_garch = X_garch[:, 1:]"
   ]
  },
  {
   "cell_type": "code",
   "execution_count": null,
   "id": "9a611ff4-967c-480a-9b94-b71c562e1242",
   "metadata": {},
   "outputs": [],
   "source": [
    "plot_sample(X_garch, X_garch_sbts)"
   ]
  }
 ],
 "metadata": {
  "kernelspec": {
   "display_name": "Python 3 (ipykernel)",
   "language": "python",
   "name": "python3"
  },
  "language_info": {
   "codemirror_mode": {
    "name": "ipython",
    "version": 3
   },
   "file_extension": ".py",
   "mimetype": "text/x-python",
   "name": "python",
   "nbconvert_exporter": "python",
   "pygments_lexer": "ipython3",
   "version": "3.12.7"
  }
 },
 "nbformat": 4,
 "nbformat_minor": 5
}
